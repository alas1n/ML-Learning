{
 "cells": [
  {
   "cell_type": "markdown",
   "metadata": {},
   "source": [
    "## IMDB text classification"
   ]
  },
  {
   "cell_type": "code",
   "execution_count": 60,
   "metadata": {},
   "outputs": [
    {
     "name": "stdout",
     "output_type": "stream",
     "text": [
      "1.12.0\n"
     ]
    }
   ],
   "source": [
    "from __future__ import absolute_import, division, print_function\n",
    "\n",
    "import tensorflow as tf\n",
    "from tensorflow import keras\n",
    "\n",
    "import numpy as np\n",
    "\n",
    "print(tf.__version__)"
   ]
  },
  {
   "cell_type": "markdown",
   "metadata": {},
   "source": [
    "### Getting IMDB dataset"
   ]
  },
  {
   "cell_type": "code",
   "execution_count": 61,
   "metadata": {},
   "outputs": [],
   "source": [
    "imdb = keras.datasets.imdb\n",
    "\n",
    "(train_data, train_labels), (test_data, test_labels) = imdb.load_data(num_words=10000)"
   ]
  },
  {
   "cell_type": "markdown",
   "metadata": {},
   "source": [
    "### Let's see what we got"
   ]
  },
  {
   "cell_type": "code",
   "execution_count": 62,
   "metadata": {},
   "outputs": [
    {
     "name": "stdout",
     "output_type": "stream",
     "text": [
      "Training entries: 25000, labels: 25000\n"
     ]
    }
   ],
   "source": [
    "print(\"Training entries: {}, labels: {}\".format(len(train_data), len(train_labels)))"
   ]
  },
  {
   "cell_type": "markdown",
   "metadata": {},
   "source": [
    "The text of reviews have been converted to integers, where each integer represents a specific word in a dictionary. Here's what the first review looks like:"
   ]
  },
  {
   "cell_type": "code",
   "execution_count": 63,
   "metadata": {},
   "outputs": [
    {
     "name": "stdout",
     "output_type": "stream",
     "text": [
      "[1, 14, 22, 16, 43, 530, 973, 1622, 1385, 65, 458, 4468, 66, 3941, 4, 173, 36, 256, 5, 25, 100, 43, 838, 112, 50, 670, 2, 9, 35, 480, 284, 5, 150, 4, 172, 112, 167, 2, 336, 385, 39, 4, 172, 4536, 1111, 17, 546, 38, 13, 447, 4, 192, 50, 16, 6, 147, 2025, 19, 14, 22, 4, 1920, 4613, 469, 4, 22, 71, 87, 12, 16, 43, 530, 38, 76, 15, 13, 1247, 4, 22, 17, 515, 17, 12, 16, 626, 18, 2, 5, 62, 386, 12, 8, 316, 8, 106, 5, 4, 2223, 5244, 16, 480, 66, 3785, 33, 4, 130, 12, 16, 38, 619, 5, 25, 124, 51, 36, 135, 48, 25, 1415, 33, 6, 22, 12, 215, 28, 77, 52, 5, 14, 407, 16, 82, 2, 8, 4, 107, 117, 5952, 15, 256, 4, 2, 7, 3766, 5, 723, 36, 71, 43, 530, 476, 26, 400, 317, 46, 7, 4, 2, 1029, 13, 104, 88, 4, 381, 15, 297, 98, 32, 2071, 56, 26, 141, 6, 194, 7486, 18, 4, 226, 22, 21, 134, 476, 26, 480, 5, 144, 30, 5535, 18, 51, 36, 28, 224, 92, 25, 104, 4, 226, 65, 16, 38, 1334, 88, 12, 16, 283, 5, 16, 4472, 113, 103, 32, 15, 16, 5345, 19, 178, 32]\n"
     ]
    }
   ],
   "source": [
    "print(train_data[0])"
   ]
  },
  {
   "cell_type": "markdown",
   "metadata": {},
   "source": [
    "Movie reviews have different lengths"
   ]
  },
  {
   "cell_type": "code",
   "execution_count": 64,
   "metadata": {},
   "outputs": [
    {
     "data": {
      "text/plain": [
       "(218, 189)"
      ]
     },
     "execution_count": 64,
     "metadata": {},
     "output_type": "execute_result"
    }
   ],
   "source": [
    "len(train_data[0]), len(train_data[1])"
   ]
  },
  {
   "cell_type": "markdown",
   "metadata": {},
   "source": [
    "Let's get the words for these integers"
   ]
  },
  {
   "cell_type": "code",
   "execution_count": 65,
   "metadata": {},
   "outputs": [],
   "source": [
    "# A dictionary mapping words to an integer index\n",
    "word_index = imdb.get_word_index()\n",
    "\n",
    "# The first indices are reserved\n",
    "word_index = {k:(v+3) for k,v in word_index.items()} \n",
    "word_index[\"<PAD>\"] = 0\n",
    "word_index[\"<START>\"] = 1\n",
    "word_index[\"<UNK>\"] = 2  # unknown\n",
    "word_index[\"<UNUSED>\"] = 3\n",
    "\n",
    "reverse_word_index = dict([(value, key) for (key, value) in word_index.items()])\n",
    "\n",
    "def decode_review(text):\n",
    "    return ' '.join([reverse_word_index.get(i, '?') for i in text])"
   ]
  },
  {
   "cell_type": "code",
   "execution_count": 66,
   "metadata": {},
   "outputs": [
    {
     "data": {
      "text/plain": [
       "\"<START> this film was just brilliant casting location scenery story direction everyone's really suited the part they played and you could just imagine being there robert <UNK> is an amazing actor and now the same being director <UNK> father came from the same scottish island as myself so i loved the fact there was a real connection with this film the witty remarks throughout the film were great it was just brilliant so much that i bought the film as soon as it was released for <UNK> and would recommend it to everyone to watch and the fly fishing was amazing really cried at the end it was so sad and you know what they say if you cry at a film it must have been good and this definitely was also <UNK> to the two little boy's that played the <UNK> of norman and paul they were just brilliant children are often left out of the <UNK> list i think because the stars that play them all grown up are such a big profile for the whole film but these children are amazing and should be praised for what they have done don't you think the whole story was so lovely because it was true and was someone's life after all that was shared with us all\""
      ]
     },
     "execution_count": 66,
     "metadata": {},
     "output_type": "execute_result"
    }
   ],
   "source": [
    "decode_review(train_data[0])"
   ]
  },
  {
   "cell_type": "markdown",
   "metadata": {},
   "source": [
    "### Let's prepare the data\n",
    "\n",
    "The reviews—the arrays of integers—must be converted to tensors before fed into the neural network. This conversion can be done a couple of ways:\n",
    "\n",
    "- One-hot-encode the arrays to convert them into vectors of 0s and 1s. For example, the sequence [3, 5] would become a 10,000-dimensional vector that is all zeros except for indices 3 and 5, which are ones. Then, make this the first layer in our network—a Dense layer—that can handle floating point vector data. This approach is memory intensive, though, requiring a num_words * num_reviews size matrix.\n",
    "- Alternatively, we can pad the arrays so they all have the same length, then create an integer tensor of shape num_examples * max_length. We can use an embedding layer capable of handling this shape as the first layer in our network.\n",
    "\n",
    "In this tutorial, we will use the second approach.\n",
    "\n",
    "Since the movie reviews must be the same length, we will use the pad_sequences function to standardize the lengths:"
   ]
  },
  {
   "cell_type": "code",
   "execution_count": 67,
   "metadata": {},
   "outputs": [],
   "source": [
    "train_data = keras.preprocessing.sequence.pad_sequences(train_data,\n",
    "                                                        value=word_index[\"<PAD>\"],\n",
    "                                                        padding='post',\n",
    "                                                        maxlen=256)\n",
    "\n",
    "test_data = keras.preprocessing.sequence.pad_sequences(test_data,\n",
    "                                                       value=word_index[\"<PAD>\"],\n",
    "                                                       padding='post',\n",
    "                                                       maxlen=256)"
   ]
  },
  {
   "cell_type": "code",
   "execution_count": 68,
   "metadata": {},
   "outputs": [
    {
     "data": {
      "text/plain": [
       "(256, 256)"
      ]
     },
     "execution_count": 68,
     "metadata": {},
     "output_type": "execute_result"
    }
   ],
   "source": [
    "len(train_data[0]), len(train_data[1])"
   ]
  },
  {
   "cell_type": "code",
   "execution_count": 69,
   "metadata": {},
   "outputs": [
    {
     "name": "stdout",
     "output_type": "stream",
     "text": [
      "[   1   14   22   16   43  530  973 1622 1385   65  458 4468   66 3941\n",
      "    4  173   36  256    5   25  100   43  838  112   50  670    2    9\n",
      "   35  480  284    5  150    4  172  112  167    2  336  385   39    4\n",
      "  172 4536 1111   17  546   38   13  447    4  192   50   16    6  147\n",
      " 2025   19   14   22    4 1920 4613  469    4   22   71   87   12   16\n",
      "   43  530   38   76   15   13 1247    4   22   17  515   17   12   16\n",
      "  626   18    2    5   62  386   12    8  316    8  106    5    4 2223\n",
      " 5244   16  480   66 3785   33    4  130   12   16   38  619    5   25\n",
      "  124   51   36  135   48   25 1415   33    6   22   12  215   28   77\n",
      "   52    5   14  407   16   82    2    8    4  107  117 5952   15  256\n",
      "    4    2    7 3766    5  723   36   71   43  530  476   26  400  317\n",
      "   46    7    4    2 1029   13  104   88    4  381   15  297   98   32\n",
      " 2071   56   26  141    6  194 7486   18    4  226   22   21  134  476\n",
      "   26  480    5  144   30 5535   18   51   36   28  224   92   25  104\n",
      "    4  226   65   16   38 1334   88   12   16  283    5   16 4472  113\n",
      "  103   32   15   16 5345   19  178   32    0    0    0    0    0    0\n",
      "    0    0    0    0    0    0    0    0    0    0    0    0    0    0\n",
      "    0    0    0    0    0    0    0    0    0    0    0    0    0    0\n",
      "    0    0    0    0]\n"
     ]
    }
   ],
   "source": [
    "print(train_data[0])"
   ]
  },
  {
   "cell_type": "markdown",
   "metadata": {},
   "source": [
    "### Build the model\n",
    "\n",
    "The neural network is created by stacking layers—this requires two main architectural decisions:\n",
    "\n",
    "- How many layers to use in the model?\n",
    "- How many hidden units to use for each layer?\n",
    "\n",
    "In this example, the input data consists of an array of word-indices. The labels to predict are either 0 or 1. Let's build a model for this problem:"
   ]
  },
  {
   "cell_type": "code",
   "execution_count": 70,
   "metadata": {},
   "outputs": [
    {
     "name": "stdout",
     "output_type": "stream",
     "text": [
      "_________________________________________________________________\n",
      "Layer (type)                 Output Shape              Param #   \n",
      "=================================================================\n",
      "embedding_1 (Embedding)      (None, None, 16)          160000    \n",
      "_________________________________________________________________\n",
      "global_average_pooling1d_1 ( (None, 16)                0         \n",
      "_________________________________________________________________\n",
      "dense_2 (Dense)              (None, 16)                272       \n",
      "_________________________________________________________________\n",
      "dense_3 (Dense)              (None, 1)                 17        \n",
      "=================================================================\n",
      "Total params: 160,289\n",
      "Trainable params: 160,289\n",
      "Non-trainable params: 0\n",
      "_________________________________________________________________\n"
     ]
    }
   ],
   "source": [
    "# input shape is the vocabulary count used for the movie reviews (10,000 words)\n",
    "vocab_size = 10000\n",
    "\n",
    "model = keras.Sequential()\n",
    "model.add(keras.layers.Embedding(vocab_size, 16))\n",
    "model.add(keras.layers.GlobalAveragePooling1D())\n",
    "model.add(keras.layers.Dense(16, activation=tf.nn.relu))\n",
    "model.add(keras.layers.Dense(1, activation=tf.nn.sigmoid))\n",
    "\n",
    "model.summary()"
   ]
  },
  {
   "cell_type": "markdown",
   "metadata": {},
   "source": [
    "The layers are stacked sequentially to build the classifier:\n",
    "\n",
    "1. The first layer is an Embedding layer. This layer takes the integer-encoded vocabulary and looks up the embedding vector for each word-index. These vectors are learned as the model trains. The vectors add a dimension to the output array. The resulting dimensions are: (batch, sequence, embedding).\n",
    "2. Next, a GlobalAveragePooling1D layer returns a fixed-length output vector for each example by averaging over the sequence dimension. This allows the model can handle input of variable length, in the simplest way possible.\n",
    "3. This fixed-length output vector is piped through a fully-connected (Dense) layer with 16 hidden units.\n",
    "4. The last layer is densely connected with a single output node. Using the sigmoid activation function, this value is a float between 0 and 1, representing a probability, or confidence level.\n",
    "\n",
    "#### Hidden units\n",
    "\n",
    "The above model has two intermediate or \"hidden\" layers, between the input and output. The number of outputs (units, nodes, or neurons) is the dimension of the representational space for the layer. In other words, the amount of freedom the network is allowed when learning an internal representation.\n",
    "\n",
    "If a model has more hidden units (a higher-dimensional representation space), and/or more layers, then the network can learn more complex representations. However, it makes the network more computationally expensive and may lead to learning unwanted patterns—patterns that improve performance on training data but not on the test data. This is called overfitting, and we'll explore it later.\n",
    "\n",
    "#### Loss function and optimizer\n",
    "\n",
    "A model needs a loss function and an optimizer for training. Since this is a binary classification problem and the model outputs of a probability (a single-unit layer with a sigmoid activation), we'll use the binary_crossentropy loss function.\n",
    "\n",
    "This isn't the only choice for a loss function, you could, for instance, choose mean_squared_error. But, generally, binary_crossentropy is better for dealing with probabilities—it measures the \"distance\" between probability distributions, or in our case, between the ground-truth distribution and the predictions.\n",
    "\n",
    "Later, when we are exploring regression problems (say, to predict the price of a house), we will see how to use another loss function called mean squared error.\n",
    "\n",
    "Now, configure the model to use an optimizer and a loss function:"
   ]
  },
  {
   "cell_type": "code",
   "execution_count": 71,
   "metadata": {},
   "outputs": [],
   "source": [
    "model.compile(optimizer=tf.train.AdamOptimizer(),\n",
    "              loss='binary_crossentropy',\n",
    "              metrics=['accuracy'])"
   ]
  },
  {
   "cell_type": "markdown",
   "metadata": {},
   "source": [
    "### Validation Set"
   ]
  },
  {
   "cell_type": "code",
   "execution_count": 72,
   "metadata": {},
   "outputs": [],
   "source": [
    "x_val = train_data[:10000]\n",
    "partial_x_train = train_data[10000:]\n",
    "\n",
    "y_val = train_labels[:10000]\n",
    "partial_y_train = train_labels[10000:]"
   ]
  },
  {
   "cell_type": "code",
   "execution_count": 73,
   "metadata": {},
   "outputs": [
    {
     "name": "stdout",
     "output_type": "stream",
     "text": [
      "25000\n",
      "10000\n"
     ]
    }
   ],
   "source": [
    "print(len(train_data))\n",
    "print(len(x_val))"
   ]
  },
  {
   "cell_type": "markdown",
   "metadata": {},
   "source": [
    "### Train the model\n",
    "\n",
    "Train the model for 20 epochs in mini-batches of 512 samples. This is 20 iterations over all samples in the x_train and y_train tensors. While training, monitor the model's loss and accuracy on the 10,000 samples from the validation set:"
   ]
  },
  {
   "cell_type": "code",
   "execution_count": 74,
   "metadata": {},
   "outputs": [
    {
     "name": "stdout",
     "output_type": "stream",
     "text": [
      "Train on 15000 samples, validate on 10000 samples\n",
      "Epoch 1/40\n",
      "15000/15000 [==============================] - 2s 112us/step - loss: 0.6920 - acc: 0.5342 - val_loss: 0.6905 - val_acc: 0.5654\n",
      "Epoch 2/40\n",
      "15000/15000 [==============================] - 1s 81us/step - loss: 0.6873 - acc: 0.6399 - val_loss: 0.6837 - val_acc: 0.7566\n",
      "Epoch 3/40\n",
      "15000/15000 [==============================] - 1s 73us/step - loss: 0.6763 - acc: 0.7563 - val_loss: 0.6697 - val_acc: 0.7596\n",
      "Epoch 4/40\n",
      "15000/15000 [==============================] - 1s 80us/step - loss: 0.6560 - acc: 0.7780 - val_loss: 0.6464 - val_acc: 0.7680\n",
      "Epoch 5/40\n",
      "15000/15000 [==============================] - 1s 70us/step - loss: 0.6246 - acc: 0.7975 - val_loss: 0.6120 - val_acc: 0.7864\n",
      "Epoch 6/40\n",
      "15000/15000 [==============================] - 1s 71us/step - loss: 0.5833 - acc: 0.8117 - val_loss: 0.5714 - val_acc: 0.7988\n",
      "Epoch 7/40\n",
      "15000/15000 [==============================] - 1s 85us/step - loss: 0.5362 - acc: 0.8279 - val_loss: 0.5278 - val_acc: 0.8176\n",
      "Epoch 8/40\n",
      "15000/15000 [==============================] - 1s 72us/step - loss: 0.4883 - acc: 0.8447 - val_loss: 0.4857 - val_acc: 0.8313\n",
      "Epoch 9/40\n",
      "15000/15000 [==============================] - 1s 65us/step - loss: 0.4439 - acc: 0.8575 - val_loss: 0.4483 - val_acc: 0.8418\n",
      "Epoch 10/40\n",
      "15000/15000 [==============================] - 1s 65us/step - loss: 0.4043 - acc: 0.8709 - val_loss: 0.4167 - val_acc: 0.8504\n",
      "Epoch 11/40\n",
      "15000/15000 [==============================] - 1s 79us/step - loss: 0.3710 - acc: 0.8807 - val_loss: 0.3930 - val_acc: 0.8551\n",
      "Epoch 12/40\n",
      "15000/15000 [==============================] - 1s 65us/step - loss: 0.3432 - acc: 0.8868 - val_loss: 0.3701 - val_acc: 0.8629\n",
      "Epoch 13/40\n",
      "15000/15000 [==============================] - 1s 77us/step - loss: 0.3184 - acc: 0.8935 - val_loss: 0.3540 - val_acc: 0.8669\n",
      "Epoch 14/40\n",
      "15000/15000 [==============================] - 1s 74us/step - loss: 0.2980 - acc: 0.8998 - val_loss: 0.3398 - val_acc: 0.8718\n",
      "Epoch 15/40\n",
      "15000/15000 [==============================] - 1s 68us/step - loss: 0.2804 - acc: 0.9039 - val_loss: 0.3288 - val_acc: 0.8741\n",
      "Epoch 16/40\n",
      "15000/15000 [==============================] - 1s 73us/step - loss: 0.2653 - acc: 0.9075 - val_loss: 0.3198 - val_acc: 0.8761\n",
      "Epoch 17/40\n",
      "15000/15000 [==============================] - 1s 74us/step - loss: 0.2509 - acc: 0.9139 - val_loss: 0.3123 - val_acc: 0.8776\n",
      "Epoch 18/40\n",
      "15000/15000 [==============================] - 1s 77us/step - loss: 0.2384 - acc: 0.9184 - val_loss: 0.3060 - val_acc: 0.8799\n",
      "Epoch 19/40\n",
      "15000/15000 [==============================] - 1s 80us/step - loss: 0.2268 - acc: 0.9225 - val_loss: 0.3010 - val_acc: 0.8811\n",
      "Epoch 20/40\n",
      "15000/15000 [==============================] - 1s 66us/step - loss: 0.2166 - acc: 0.9249 - val_loss: 0.2969 - val_acc: 0.8822\n",
      "Epoch 21/40\n",
      "15000/15000 [==============================] - 1s 77us/step - loss: 0.2067 - acc: 0.9290 - val_loss: 0.2932 - val_acc: 0.8826\n",
      "Epoch 22/40\n",
      "15000/15000 [==============================] - 1s 75us/step - loss: 0.1976 - acc: 0.9326 - val_loss: 0.2910 - val_acc: 0.8827\n",
      "Epoch 23/40\n",
      "15000/15000 [==============================] - 1s 88us/step - loss: 0.1893 - acc: 0.9356 - val_loss: 0.2890 - val_acc: 0.8829\n",
      "Epoch 24/40\n",
      "15000/15000 [==============================] - 1s 72us/step - loss: 0.1810 - acc: 0.9408 - val_loss: 0.2868 - val_acc: 0.8842\n",
      "Epoch 25/40\n",
      "15000/15000 [==============================] - 1s 77us/step - loss: 0.1737 - acc: 0.9441 - val_loss: 0.2856 - val_acc: 0.8845\n",
      "Epoch 26/40\n",
      "15000/15000 [==============================] - 1s 73us/step - loss: 0.1665 - acc: 0.9463 - val_loss: 0.2850 - val_acc: 0.8848\n",
      "Epoch 27/40\n",
      "15000/15000 [==============================] - 1s 70us/step - loss: 0.1604 - acc: 0.9492 - val_loss: 0.2852 - val_acc: 0.8853\n",
      "Epoch 28/40\n",
      "15000/15000 [==============================] - 1s 73us/step - loss: 0.1540 - acc: 0.9519 - val_loss: 0.2845 - val_acc: 0.8858\n",
      "Epoch 29/40\n",
      "15000/15000 [==============================] - 1s 69us/step - loss: 0.1481 - acc: 0.9537 - val_loss: 0.2849 - val_acc: 0.8866\n",
      "Epoch 30/40\n",
      "15000/15000 [==============================] - 1s 71us/step - loss: 0.1430 - acc: 0.9561 - val_loss: 0.2859 - val_acc: 0.8862\n",
      "Epoch 31/40\n",
      "15000/15000 [==============================] - 1s 77us/step - loss: 0.1369 - acc: 0.9593 - val_loss: 0.2868 - val_acc: 0.8864\n",
      "Epoch 32/40\n",
      "15000/15000 [==============================] - 1s 73us/step - loss: 0.1321 - acc: 0.9613 - val_loss: 0.2882 - val_acc: 0.8862\n",
      "Epoch 33/40\n",
      "15000/15000 [==============================] - 1s 70us/step - loss: 0.1268 - acc: 0.9639 - val_loss: 0.2897 - val_acc: 0.8859\n",
      "Epoch 34/40\n",
      "15000/15000 [==============================] - 1s 71us/step - loss: 0.1222 - acc: 0.9656 - val_loss: 0.2918 - val_acc: 0.8853\n",
      "Epoch 35/40\n",
      "15000/15000 [==============================] - 1s 70us/step - loss: 0.1182 - acc: 0.9661 - val_loss: 0.2932 - val_acc: 0.8853\n",
      "Epoch 36/40\n",
      "15000/15000 [==============================] - 1s 74us/step - loss: 0.1132 - acc: 0.9691 - val_loss: 0.2958 - val_acc: 0.8847\n",
      "Epoch 37/40\n",
      "15000/15000 [==============================] - 1s 73us/step - loss: 0.1094 - acc: 0.9697 - val_loss: 0.2985 - val_acc: 0.8848\n",
      "Epoch 38/40\n",
      "15000/15000 [==============================] - 1s 73us/step - loss: 0.1059 - acc: 0.9703 - val_loss: 0.3004 - val_acc: 0.8839\n",
      "Epoch 39/40\n",
      "15000/15000 [==============================] - 1s 70us/step - loss: 0.1015 - acc: 0.9720 - val_loss: 0.3027 - val_acc: 0.8840\n",
      "Epoch 40/40\n",
      "15000/15000 [==============================] - 1s 78us/step - loss: 0.0978 - acc: 0.9740 - val_loss: 0.3057 - val_acc: 0.8842\n"
     ]
    }
   ],
   "source": [
    "history = model.fit(partial_x_train,\n",
    "                    partial_y_train,\n",
    "                    epochs=40,\n",
    "                    batch_size=512,\n",
    "                    validation_data=(x_val, y_val),\n",
    "                    verbose=1)"
   ]
  },
  {
   "cell_type": "markdown",
   "metadata": {},
   "source": [
    "### Evaluate the model\n",
    "\n",
    "And let's see how the model performs. Two values will be returned. Loss (a number which represents our error, lower values are better), and accuracy."
   ]
  },
  {
   "cell_type": "code",
   "execution_count": 75,
   "metadata": {},
   "outputs": [
    {
     "name": "stdout",
     "output_type": "stream",
     "text": [
      "25000/25000 [==============================] - 1s 57us/step\n",
      "[0.3254450630664825, 0.87256]\n"
     ]
    }
   ],
   "source": [
    "results = model.evaluate(test_data, test_labels)\n",
    "\n",
    "print(results)"
   ]
  },
  {
   "cell_type": "code",
   "execution_count": 76,
   "metadata": {},
   "outputs": [
    {
     "data": {
      "text/plain": [
       "dict_keys(['val_acc', 'loss', 'val_loss', 'acc'])"
      ]
     },
     "execution_count": 76,
     "metadata": {},
     "output_type": "execute_result"
    }
   ],
   "source": [
    "history_dict = history.history\n",
    "history_dict.keys()"
   ]
  },
  {
   "cell_type": "code",
   "execution_count": 77,
   "metadata": {},
   "outputs": [
    {
     "data": {
      "image/png": "[encoded data removed]",
      "text/plain": [
       "<Figure size 432x288 with 1 Axes>"
      ]
     },
     "metadata": {
      "needs_background": "light"
     },
     "output_type": "display_data"
    }
   ],
   "source": [
    "import matplotlib.pyplot as plt\n",
    "\n",
    "acc = history_dict['acc']\n",
    "val_acc = history_dict['val_acc']\n",
    "loss = history_dict['loss']\n",
    "val_loss = history_dict['val_loss']\n",
    "\n",
    "epochs = range(1, len(acc) + 1)\n",
    "\n",
    "# \"bo\" is for \"blue dot\"\n",
    "plt.plot(epochs, loss, 'bo', label='Training loss')\n",
    "# b is for \"solid blue line\"\n",
    "plt.plot(epochs, val_loss, 'b', label='Validation loss')\n",
    "plt.title('Training and validation loss')\n",
    "plt.xlabel('Epochs')\n",
    "plt.ylabel('Loss')\n",
    "plt.legend()\n",
    "\n",
    "plt.show()\n",
    "\n",
    "\n"
   ]
  },
  {
   "cell_type": "code",
   "execution_count": 78,
   "metadata": {},
   "outputs": [
    {
     "data": {
      "image/png": "[encoded data removed]",
      "text/plain": [
       "<Figure size 432x288 with 1 Axes>"
      ]
     },
     "metadata": {
      "needs_background": "light"
     },
     "output_type": "display_data"
    }
   ],
   "source": [
    "plt.clf()   # clear figure\n",
    "acc_values = history_dict['acc']\n",
    "val_acc_values = history_dict['val_acc']\n",
    "\n",
    "plt.plot(epochs, acc, 'bo', label='Training acc')\n",
    "plt.plot(epochs, val_acc, 'b', label='Validation acc')\n",
    "plt.title('Training and validation accuracy')\n",
    "plt.xlabel('Epochs')\n",
    "plt.ylabel('Accuracy')\n",
    "plt.legend()\n",
    "\n",
    "plt.show()"
   ]
  },
  {
   "cell_type": "markdown",
   "metadata": {},
   "source": [
    "In this plot, the dots represent the training loss and accuracy, and the solid lines are the validation loss and accuracy.\n",
    "\n",
    "Notice the training loss decreases with each epoch and the training accuracy increases with each epoch. This is expected when using a gradient descent optimization—it should minimize the desired quantity on every iteration.\n",
    "\n",
    "This isn't the case for the validation loss and accuracy—they seem to peak after about twenty epochs. This is an example of overfitting: the model performs better on the training data than it does on data it has never seen before. After this point, the model over-optimizes and learns representations specific to the training data that do not generalize to test data.\n",
    "\n",
    "For this particular case, we could prevent overfitting by simply stopping the training after twenty or so epochs. Later, you'll see how to do this automatically with a callback."
   ]
  },
  {
   "cell_type": "code",
   "execution_count": null,
   "metadata": {},
   "outputs": [],
   "source": [
    "rand_review = np.random.randint(10000, sieze=256)\n",
    "biased_review = np.full(256, 530)\n",
    "test_data = np.append(test_data, [rand_review], axis=0)\n",
    "test_data = np.append(test_data, [biased_review], axis=0)\n",
    "    \n",
    "print(model.predict(test_data))\n",
    "print(decode_review(test_data[-2]))\n",
    "print(decode_review(test_data[-1]))"
   ]
  }
 ],
 "metadata": {
  "kernelspec": {
   "display_name": "Python 3",
   "language": "python",
   "name": "python3"
  },
  "language_info": {
   "codemirror_mode": {
    "name": "ipython",
    "version": 3
   },
   "file_extension": ".py",
   "mimetype": "text/x-python",
   "name": "python",
   "nbconvert_exporter": "python",
   "pygments_lexer": "ipython3",
   "version": "3.5.2"
  }
 },
 "nbformat": 4,
 "nbformat_minor": 2
}
